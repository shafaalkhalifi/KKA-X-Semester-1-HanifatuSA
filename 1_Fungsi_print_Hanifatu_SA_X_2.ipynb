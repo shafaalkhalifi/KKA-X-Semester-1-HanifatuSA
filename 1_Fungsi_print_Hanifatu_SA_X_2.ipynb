{
  "nbformat": 4,
  "nbformat_minor": 0,
  "metadata": {
    "colab": {
      "provenance": [],
      "authorship_tag": "ABX9TyPcn+vCjATZPp/kNhUze820",
      "include_colab_link": true
    },
    "kernelspec": {
      "name": "python3",
      "display_name": "Python 3"
    },
    "language_info": {
      "name": "python"
    }
  },
  "cells": [
    {
      "cell_type": "markdown",
      "metadata": {
        "id": "view-in-github",
        "colab_type": "text"
      },
      "source": [
        "<a href=\"https://colab.research.google.com/github/shafaalkhalifi/KKA-X-Semester-1-HanifatuSA/blob/main/1_Fungsi_print_Hanifatu_SA_X_2.ipynb\" target=\"_parent\"><img src=\"https://colab.research.google.com/assets/colab-badge.svg\" alt=\"Open In Colab\"/></a>"
      ]
    },
    {
      "cell_type": "markdown",
      "source": [
        "#Menampilkan Teks Bebas"
      ],
      "metadata": {
        "id": "X8GP-fsmuoAU"
      }
    },
    {
      "cell_type": "markdown",
      "source": [
        "Nama: Hanifatu Shafa Al Khalifi\n",
        "\n",
        "Kelas: X.2\n",
        "\n",
        "Nomor absen: 12"
      ],
      "metadata": {
        "id": "ODCCvtbJtq8c"
      }
    },
    {
      "cell_type": "code",
      "execution_count": null,
      "metadata": {
        "id": "9L3BgU5gtEOa",
        "colab": {
          "base_uri": "https://localhost:8080/"
        },
        "outputId": "4444aa7c-c314-4957-83f3-897f9c052e88"
      },
      "outputs": [
        {
          "output_type": "stream",
          "name": "stdout",
          "text": [
            "Halo Wold!\n"
          ]
        }
      ],
      "source": [
        "print(\"Halo Wold!\")"
      ]
    },
    {
      "cell_type": "code",
      "source": [
        "print(\"Hanifatu Shafa Al Khalifi\")"
      ],
      "metadata": {
        "colab": {
          "base_uri": "https://localhost:8080/"
        },
        "id": "W56vOPM5wx4Z",
        "outputId": "021d3a93-abf6-415a-f1a3-1aa8d4d606a0"
      },
      "execution_count": null,
      "outputs": [
        {
          "output_type": "stream",
          "name": "stdout",
          "text": [
            "Hanifatu Shafa Al Khalifi\n"
          ]
        }
      ]
    },
    {
      "cell_type": "markdown",
      "source": [
        "#Menampilkan Nilai Variabel"
      ],
      "metadata": {
        "id": "FzC4VKKdw5ho"
      }
    },
    {
      "cell_type": "code",
      "source": [
        "berat_badan = 58\n",
        "print(58)"
      ],
      "metadata": {
        "colab": {
          "base_uri": "https://localhost:8080/"
        },
        "id": "7wlupgo-xF7a",
        "outputId": "461cf24a-0a30-4d02-f378-8f8f171d4a0b"
      },
      "execution_count": null,
      "outputs": [
        {
          "output_type": "stream",
          "name": "stdout",
          "text": [
            "58\n"
          ]
        }
      ]
    },
    {
      "cell_type": "code",
      "source": [
        "Nama = \"Hanifatu Shafa Al Khalifi\"\n",
        "print(\"Hanifatu Shafa Al Khalifi\")"
      ],
      "metadata": {
        "colab": {
          "base_uri": "https://localhost:8080/"
        },
        "id": "0EUSOszfxHnh",
        "outputId": "d79b305e-93e9-4997-e3a4-a86aa7e6e2d2"
      },
      "execution_count": null,
      "outputs": [
        {
          "output_type": "stream",
          "name": "stdout",
          "text": [
            "Hanifatu Shafa Al Khalifi\n"
          ]
        }
      ]
    },
    {
      "cell_type": "code",
      "source": [
        "Usia = 15\n",
        "print(\"15\")"
      ],
      "metadata": {
        "colab": {
          "base_uri": "https://localhost:8080/"
        },
        "id": "UwoSNko7xowv",
        "outputId": "b1fe5a00-de11-4890-ed9a-9bb2e0e37343"
      },
      "execution_count": null,
      "outputs": [
        {
          "output_type": "stream",
          "name": "stdout",
          "text": [
            "15\n"
          ]
        }
      ]
    },
    {
      "cell_type": "markdown",
      "source": [
        "#Menampilkan Teks Bebas dan Nilai Variabel"
      ],
      "metadata": {
        "id": "LVXfiOpUxxnW"
      }
    },
    {
      "cell_type": "code",
      "source": [
        "print(\"berat badan saya adalah\", berat_badan, \"Kg.\")"
      ],
      "metadata": {
        "colab": {
          "base_uri": "https://localhost:8080/"
        },
        "id": "SuCSpGhKx4K3",
        "outputId": "7eb57cf9-a8ea-434b-a521-3237e58ca0f9"
      },
      "execution_count": null,
      "outputs": [
        {
          "output_type": "stream",
          "name": "stdout",
          "text": [
            "berat badan saya adalah 58 Kg.\n"
          ]
        }
      ]
    },
    {
      "cell_type": "code",
      "source": [
        "print(\"Perkenalan nama saya\", Nama, \".\")"
      ],
      "metadata": {
        "colab": {
          "base_uri": "https://localhost:8080/"
        },
        "id": "XydjpxNg0wHk",
        "outputId": "025217bc-b68b-42e6-acfb-da7d2abde67f"
      },
      "execution_count": null,
      "outputs": [
        {
          "output_type": "stream",
          "name": "stdout",
          "text": [
            "Perkenalan nama saya Hanifatu Shafa Al Khalifi .\n"
          ]
        }
      ]
    },
    {
      "cell_type": "code",
      "source": [
        "print(\"Perkenalkan nama saya, \" + Nama + \".\")"
      ],
      "metadata": {
        "colab": {
          "base_uri": "https://localhost:8080/"
        },
        "id": "S_Hl_4HX3iRo",
        "outputId": "d913e179-ddfc-4c33-9d59-eb49944aa248"
      },
      "execution_count": null,
      "outputs": [
        {
          "output_type": "stream",
          "name": "stdout",
          "text": [
            "Perkenalkan nama saya, Hanifatu Shafa Al Khalifi.\n"
          ]
        }
      ]
    },
    {
      "cell_type": "code",
      "source": [
        "print(\"berat badan saya,\" + str(berat_badan) + \"Kg.\")"
      ],
      "metadata": {
        "colab": {
          "base_uri": "https://localhost:8080/"
        },
        "id": "pnJmNHyp3zc8",
        "outputId": "f403cf37-e525-40c8-8f50-16fbea0818d0"
      },
      "execution_count": null,
      "outputs": [
        {
          "output_type": "stream",
          "name": "stdout",
          "text": [
            "berat badan saya,58Kg.\n"
          ]
        }
      ]
    },
    {
      "cell_type": "code",
      "source": [
        "print(f\"Perkenalkan nama saya {Nama}.\")"
      ],
      "metadata": {
        "colab": {
          "base_uri": "https://localhost:8080/"
        },
        "id": "eviwqJJx4DLF",
        "outputId": "620d18c7-a69b-44b1-90f1-cb54d1a963c5"
      },
      "execution_count": null,
      "outputs": [
        {
          "output_type": "stream",
          "name": "stdout",
          "text": [
            "Perkenalkan nama saya Hanifatu Shafa Al Khalifi.\n"
          ]
        }
      ]
    },
    {
      "cell_type": "code",
      "source": [
        "print(f\"berat badan saya {berat_badan} kg.\")"
      ],
      "metadata": {
        "colab": {
          "base_uri": "https://localhost:8080/"
        },
        "id": "eF_-XW_X4K6k",
        "outputId": "6bfa9c82-3855-4d69-e110-7fc7cbbad939"
      },
      "execution_count": null,
      "outputs": [
        {
          "output_type": "stream",
          "name": "stdout",
          "text": [
            "berat badan saya 58 kg.\n"
          ]
        }
      ]
    },
    {
      "cell_type": "markdown",
      "source": [
        "#Escape Character"
      ],
      "metadata": {
        "id": "Zt1qmue72H3_"
      }
    },
    {
      "cell_type": "code",
      "source": [
        "print(\"Nama: Hanifatu Shafa Al Khalifi\\nKelas: X.2\\nNo. Absen: 12\")"
      ],
      "metadata": {
        "colab": {
          "base_uri": "https://localhost:8080/"
        },
        "id": "zA9CpBEL2N-w",
        "outputId": "d99a5ef8-1cb0-497e-feec-b682f71ccc0d"
      },
      "execution_count": null,
      "outputs": [
        {
          "output_type": "stream",
          "name": "stdout",
          "text": [
            "Nama: Hanifatu Shafa Al Khalifi\n",
            "Kelas: X.2\n",
            "No. Absen: 12\n"
          ]
        }
      ]
    },
    {
      "cell_type": "code",
      "source": [
        "print(\"Nama: Hanifatu Shafa Al Khalifi\")\n",
        "print(\"Kelas: X.2\")\n",
        "print(\"No. Absen: 12\")"
      ],
      "metadata": {
        "colab": {
          "base_uri": "https://localhost:8080/"
        },
        "id": "9Z4yuzic2es_",
        "outputId": "8072b977-cef0-41c8-ed23-ca72c42c5047"
      },
      "execution_count": null,
      "outputs": [
        {
          "output_type": "stream",
          "name": "stdout",
          "text": [
            "Nama: Hanifatu Shafa Al Khalifi\n",
            "Kelas: X.2\n",
            "No. Absen: 12\n"
          ]
        }
      ]
    },
    {
      "cell_type": "code",
      "source": [
        "print(\"\"\"Nama: Hanifatu Shafa Al Khalifi\n",
        "Kelas: X.2\n",
        "No. Absen: 12\"\"\")"
      ],
      "metadata": {
        "colab": {
          "base_uri": "https://localhost:8080/"
        },
        "id": "rfF__ydm2x9Q",
        "outputId": "2b95ac0b-511a-47c6-f961-ac9e9464f4f9"
      },
      "execution_count": null,
      "outputs": [
        {
          "output_type": "stream",
          "name": "stdout",
          "text": [
            "Nama: Hanifatu Shafa Al Khalifi \n",
            "Kelas: X.2\n",
            "No. Absen: 12\n"
          ]
        }
      ]
    },
    {
      "cell_type": "code",
      "source": [
        "print(\"Nama\\t\\t: Hanifatu Shafa Al Khalifi\\nKelas\\t\\t: X.2\\nNo. Absen\\t: 12\")"
      ],
      "metadata": {
        "colab": {
          "base_uri": "https://localhost:8080/"
        },
        "id": "slzAyp_w6jsz",
        "outputId": "895ffddd-a695-490f-c1c9-a16e8ca2fab2"
      },
      "execution_count": null,
      "outputs": [
        {
          "output_type": "stream",
          "name": "stdout",
          "text": [
            "Nama\t\t: Hanifatu Shafa Al Khalifi\n",
            "Kelas\t\t: X.2\n",
            "No. Absen\t: 12\n"
          ]
        }
      ]
    },
    {
      "cell_type": "code",
      "source": [
        "print('Nama\\t\\t: Ja\\'far Sodiq\\nKelas\\t\\t: X.2\\nNo. Absen\\t: 10')"
      ],
      "metadata": {
        "colab": {
          "base_uri": "https://localhost:8080/"
        },
        "id": "HD7WqwTw65ZW",
        "outputId": "27113d28-a9d1-42fe-be1f-d5b728ee2a8e"
      },
      "execution_count": null,
      "outputs": [
        {
          "output_type": "stream",
          "name": "stdout",
          "text": [
            "Nama\t\t: Ja'far Sodiq\n",
            "Kelas\t\t: X.2\n",
            "No. Absen\t: 10\n"
          ]
        }
      ]
    },
    {
      "cell_type": "code",
      "source": [
        "print(\"Nama\\t\\t: Ja'far Sodiq\\nKelas\\t\\t: X.2\\nNo. Absen\\t: 10\")"
      ],
      "metadata": {
        "colab": {
          "base_uri": "https://localhost:8080/"
        },
        "id": "By8NhVf8F0yO",
        "outputId": "ccd6883d-d7b2-4563-c14c-86614ae44672"
      },
      "execution_count": null,
      "outputs": [
        {
          "output_type": "stream",
          "name": "stdout",
          "text": [
            "Nama\t\t: Ja'far Sodiq\n",
            "Kelas\t\t: X.2\n",
            "No. Absen\t: 10\n"
          ]
        }
      ]
    },
    {
      "cell_type": "code",
      "source": [
        "print('Bu Shinta mengatakan \"Semua bisa dipelajari\"')"
      ],
      "metadata": {
        "id": "ZVFwsGq2GCpS",
        "outputId": "dde71535-6b5d-49df-f19b-ac06a441bc9d",
        "colab": {
          "base_uri": "https://localhost:8080/"
        }
      },
      "execution_count": null,
      "outputs": [
        {
          "output_type": "stream",
          "name": "stdout",
          "text": [
            "Bu Shinta mengatakan \"Semua bisa dipelajari\"\n"
          ]
        }
      ]
    },
    {
      "cell_type": "code",
      "source": [
        "print(\"Lokasi file tugas KKA: Local disk D:\\\\KKA\\\\Tugas\")"
      ],
      "metadata": {
        "id": "CI8YB6zzIApF",
        "colab": {
          "base_uri": "https://localhost:8080/"
        },
        "outputId": "14988472-808c-4469-ee46-ff1e025bf8e4"
      },
      "execution_count": null,
      "outputs": [
        {
          "output_type": "stream",
          "name": "stdout",
          "text": [
            "Lokasi file tugas KKA: Local disk D:\\KKA\\Tugas\n"
          ]
        }
      ]
    },
    {
      "cell_type": "markdown",
      "source": [
        "#Jadwal Pelajaran Mingguan"
      ],
      "metadata": {
        "id": "4qx-EBORSvmP"
      }
    },
    {
      "cell_type": "code",
      "source": [
        "print('Jam\\tSenin\\t\\tSelasa\\t\\tRabu\\nJam 1\\tMatematika\\tBahasa\\t\\tInformatika\\nJam 2\\tBahasa Ing.\\tSejarah\\t\\tMa\\'rifatullah\\nJam 3\\tInformatika\\tOlahraga\\tBiologi')"
      ],
      "metadata": {
        "colab": {
          "base_uri": "https://localhost:8080/"
        },
        "id": "4m2dgvmkSzG9",
        "outputId": "91ea3c21-ea43-4ff9-815d-ad13539e0569"
      },
      "execution_count": null,
      "outputs": [
        {
          "output_type": "stream",
          "name": "stdout",
          "text": [
            "Jam\tSenin\t\tSelasa\t\tRabu\n",
            "Jam 1\tMatematika\tBahasa\t\tInformatika\n",
            "Jam 2\tBahasa Ing.\tSejarah\t\tMa'rifatullah\n",
            "Jam 3\tInformatika\tOlahraga\tBiologi\n"
          ]
        }
      ]
    },
    {
      "cell_type": "markdown",
      "source": [
        "#Paramater Fungsi Print"
      ],
      "metadata": {
        "id": "stmOw9WM7GTl"
      }
    },
    {
      "cell_type": "code",
      "source": [
        "nama_siswa_1 = \"Jielo\"\n",
        "nama_siswa_2 = \"Aida\"\n",
        "nama_siswa_3 = \"Dani\"\n",
        "\n",
        "print(nama_siswa_1)\n",
        "print(nama_siswa_2)\n",
        "print(nama_siswa_3)"
      ],
      "metadata": {
        "colab": {
          "base_uri": "https://localhost:8080/"
        },
        "id": "SekQAYWr3MCr",
        "outputId": "d75dde6f-fdfd-4544-c33f-616a1b733031"
      },
      "execution_count": null,
      "outputs": [
        {
          "output_type": "stream",
          "name": "stdout",
          "text": [
            "Jielo\n",
            "Aida\n",
            "Dani\n"
          ]
        }
      ]
    },
    {
      "cell_type": "code",
      "source": [
        "nama_siswa_1 = \"Jielo\"\n",
        "nama_siswa_2 = \"Aida\"\n",
        "nama_siswa_3 = \"Dani\"\n",
        "nama_siswa_4 = \"Nurul\"\n",
        "\n",
        "print(nama_siswa_4, end=\"/\")\n",
        "print(nama_siswa_2, end=\"/\")\n",
        "print(nama_siswa_1, end=\"/\")\n",
        "print(nama_siswa_3)"
      ],
      "metadata": {
        "colab": {
          "base_uri": "https://localhost:8080/"
        },
        "id": "a6IXhDLL08d2",
        "outputId": "472f70fa-98c7-4cbc-a8dd-ee7c94165632"
      },
      "execution_count": null,
      "outputs": [
        {
          "output_type": "stream",
          "name": "stdout",
          "text": [
            "Nurul/Aida/Jielo/Dani\n"
          ]
        }
      ]
    },
    {
      "cell_type": "code",
      "source": [
        "nama_siswa_5 = \"Hasbi\"\n",
        "nama_siswa_6 = \"Habibi\"\n",
        "nama_siswa_7 = \"Rendra\"\n",
        "nama_siswa_8 = \"Naufal\"\n",
        "\n",
        "print(nama_siswa_5, nama_siswa_8, nama_siswa_7, nama_siswa_6, nama_siswa_8, sep=\"*\")"
      ],
      "metadata": {
        "colab": {
          "base_uri": "https://localhost:8080/"
        },
        "id": "O99Lf44z4V71",
        "outputId": "c8bcc208-1c87-4fe9-fd5b-4bff1ecf5737"
      },
      "execution_count": null,
      "outputs": [
        {
          "output_type": "stream",
          "name": "stdout",
          "text": [
            "Hasbi*Naufal*Rendra*Habibi*Naufal\n"
          ]
        }
      ]
    },
    {
      "cell_type": "code",
      "source": [
        "print('Bu Shinta berkata, \"Berikut adalah daftar piket harian kelas X.2 yang disimpan di file D:\\\\MAN Demak\\\\Jadwal Piket.\"\\n\\nSenin\\tSelasa\\tRabu\\nJielo\\tHasbi\\tNaufal\\nAzam\\tAida\\tNurul')"
      ],
      "metadata": {
        "colab": {
          "base_uri": "https://localhost:8080/"
        },
        "id": "OwqBaRRt7Z7S",
        "outputId": "1da9ed22-7d8c-4091-dc80-88c14433bece"
      },
      "execution_count": null,
      "outputs": [
        {
          "output_type": "stream",
          "name": "stdout",
          "text": [
            "Bu Shinta berkata, \"Berikut adalah daftar piket harian kelas X.2 yang disimpan di file D:\\MAN Demak\\Jadwal Piket.\"\n",
            "\n",
            "Senin\tSelasa\tRabu\n",
            "Jielo\tHasbi\tNaufal\n",
            "Azam\tAida\tNurul\n"
          ]
        }
      ]
    }
  ]
}